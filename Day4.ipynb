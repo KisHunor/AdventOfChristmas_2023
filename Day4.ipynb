{
 "cells": [
  {
   "cell_type": "markdown",
   "metadata": {},
   "source": [
    "# --- Day 4: Scratchcards ---"
   ]
  },
  {
   "cell_type": "code",
   "execution_count": 3,
   "metadata": {},
   "outputs": [],
   "source": [
    "import pandas as pd \n",
    "import numpy as np"
   ]
  },
  {
   "cell_type": "markdown",
   "metadata": {},
   "source": [
    "#### Part1\n"
   ]
  },
  {
   "cell_type": "code",
   "execution_count": 50,
   "metadata": {},
   "outputs": [],
   "source": [
    "# Initialize empty lists for tips and answers\n",
    "tips_data = []\n",
    "answers_data = []\n",
    "\n",
    "with open('day4_input.txt', 'r') as file:\n",
    "    for line in file:\n",
    "        # Split the line into tips and answers based on space (' ')\n",
    "        tips, answers = line.strip().split('|')\n",
    "\n",
    "        # Append to the respective lists\n",
    "        tips_data.append(tips.split())\n",
    "        answers_data.append(answers.split())\n",
    "\n",
    "# Create DataFrames\n",
    "tips_df = pd.DataFrame(tips_data, columns=[f'tip_{i+1}' for i in range(len(tips_data[0]))])\n",
    "answers_df = pd.DataFrame(answers_data, columns=[f'answer_{i+1}' for i in range(len(answers_data[0]))])\n",
    "\n",
    "# Drop the first two columns from the tips DataFrame\n",
    "tips_df = tips_df.drop(columns=['tip_1', 'tip_2'])\n"
   ]
  },
  {
   "cell_type": "code",
   "execution_count": 52,
   "metadata": {},
   "outputs": [
    {
     "name": "stdout",
     "output_type": "stream",
     "text": [
      "26346\n",
      "0      10\n",
      "1      10\n",
      "2       7\n",
      "3      10\n",
      "4       6\n",
      "       ..\n",
      "215     0\n",
      "216     1\n",
      "217     1\n",
      "218     1\n",
      "219     0\n",
      "Name: common_elements_count, Length: 220, dtype: int64\n"
     ]
    }
   ],
   "source": [
    "# Function to count common elements in two rows\n",
    "def count_common_elements(row1, row2):\n",
    "    set1 = set(row1)\n",
    "    set2 = set(row2)\n",
    "    return len(set1.intersection(set2))\n",
    "\n",
    "# Apply the function row-wise\n",
    "common_elements_count = tips_df.apply(lambda row: count_common_elements(row, answers_df.loc[row.name]), axis=1)\n",
    "\n",
    "# Create a new column in the tips DataFrame with the common elements count\n",
    "tips_df['common_elements_count'] = common_elements_count\n",
    "#Create a new column in the tips DataFrame with the points for each game\n",
    "tips_df['sum_of_points'] = tips_df['common_elements_count'].apply(lambda i: 1 if i == 1 else (2 ** (i-1)) if i > 1 else 0)\n",
    "\n",
    "# Sum up the values in the new column\n",
    "total_sum_of_points = tips_df['sum_of_points'].sum()\n",
    "\n",
    "\n",
    "print(total_sum_of_points)\n",
    "\n"
   ]
  },
  {
   "cell_type": "markdown",
   "metadata": {},
   "source": [
    "#### Part2"
   ]
  },
  {
   "cell_type": "code",
   "execution_count": 53,
   "metadata": {},
   "outputs": [
    {
     "name": "stdout",
     "output_type": "stream",
     "text": [
      "8467762\n"
     ]
    }
   ],
   "source": [
    "# Create a list of all original scratchcards\n",
    "List_of_cards = list(range(1, 221))\n",
    "\n",
    "# Create a list containing all matches\n",
    "List_od_matches = tips_df['common_elements_count']\n",
    "\n",
    "# Loop through the common elements counts\n",
    "for iteration, match_count in enumerate(List_od_matches):\n",
    "    list_of_copies = []\n",
    "    counter = List_of_cards.count(iteration + 1)\n",
    "   \n",
    "    \n",
    "    # Corrected list_of_copies generation\n",
    "    list_of_copies = list(range(iteration + 2, iteration + 2 + match_count))\n",
    "    \n",
    "    \n",
    "    for _ in range(counter):\n",
    "        List_of_cards.extend(list_of_copies)\n",
    "\n",
    "print(len(List_of_cards))\n",
    "\n"
   ]
  }
 ],
 "metadata": {
  "kernelspec": {
   "display_name": "Python 3",
   "language": "python",
   "name": "python3"
  },
  "language_info": {
   "codemirror_mode": {
    "name": "ipython",
    "version": 3
   },
   "file_extension": ".py",
   "mimetype": "text/x-python",
   "name": "python",
   "nbconvert_exporter": "python",
   "pygments_lexer": "ipython3",
   "version": "3.11.7"
  }
 },
 "nbformat": 4,
 "nbformat_minor": 2
}
