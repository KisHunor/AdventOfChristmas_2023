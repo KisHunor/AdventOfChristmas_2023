{
 "cells": [
  {
   "cell_type": "markdown",
   "metadata": {},
   "source": [
    "# Day1 Advent of coding\n",
    "#### The newly-improved calibration document consists of lines of text; each line originally contained a specific calibration value that the Elves now need to recover. On each line, the calibration value can be found by combining the first digit and the last digit (in that order) to form a single two-digit number. \n",
    "\n",
    "\n",
    "####  Consider your entire calibration document. What is the sum of all of the calibration values?"
   ]
  },
  {
   "cell_type": "code",
   "execution_count": 4,
   "metadata": {},
   "outputs": [],
   "source": [
    "#Importing necessary libraries\n",
    "import pandas as pd"
   ]
  },
  {
   "cell_type": "code",
   "execution_count": 154,
   "metadata": {},
   "outputs": [
    {
     "name": "stdout",
     "output_type": "stream",
     "text": [
      "54338\n"
     ]
    }
   ],
   "source": [
    "#Task1\n",
    "#Counter for sum of all calibration values:\n",
    "calibration_counter = 0\n",
    "with open('day1_input.txt', 'r') as file:\n",
    "    for line in file.readlines():\n",
    "        digits = [char for char in line.strip() if char.isdigit()]\n",
    "        calibration_digits = int(digits[0]+ digits[-1] )\n",
    "        #print(calibration_digits)\n",
    "        calibration_counter += calibration_digits\n",
    "print(calibration_counter)       \n",
    "\n"
   ]
  },
  {
   "cell_type": "code",
   "execution_count": 152,
   "metadata": {},
   "outputs": [
    {
     "name": "stdout",
     "output_type": "stream",
     "text": [
      "53389\n"
     ]
    }
   ],
   "source": [
    "\n",
    "#Task2\n",
    "# Counter for sum of all calibration values:\n",
    "calibration_counter = 0\n",
    "\n",
    "# Dictionary mapping complete words to their replacements (For the function to work we want to keep the string words intact)\n",
    "complete_words_to_replace = {'one': 'one1one', 'two': 'two2two', 'three': 'three3three', 'four': 'four4four', 'five': 'five5five', 'six': 'six6six', 'seven': 'seven7seven', 'eight': 'eight8eight', 'nine': 'nine9nine'}\n",
    "\n",
    "with open('day1_input.txt', 'r') as file:\n",
    "    for line in file.readlines():\n",
    "        # Replace character patterns in the line based on the dictionary\n",
    "        for pattern, replacement in complete_words_to_replace.items():\n",
    "            line = line.replace(pattern, replacement)\n",
    "        digits = [char for char in line.strip() if char.isdigit()]\n",
    "        calibration_digits = int(digits[0]+ digits[-1] )\n",
    "        calibration_counter += calibration_digits             \n",
    "print(calibration_counter)\n",
    "\n"
   ]
  }
 ],
 "metadata": {
  "kernelspec": {
   "display_name": "Python 3",
   "language": "python",
   "name": "python3"
  },
  "language_info": {
   "codemirror_mode": {
    "name": "ipython",
    "version": 3
   },
   "file_extension": ".py",
   "mimetype": "text/x-python",
   "name": "python",
   "nbconvert_exporter": "python",
   "pygments_lexer": "ipython3",
   "version": "3.11.6"
  }
 },
 "nbformat": 4,
 "nbformat_minor": 2
}
