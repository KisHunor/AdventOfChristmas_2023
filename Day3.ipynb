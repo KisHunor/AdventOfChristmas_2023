{
 "cells": [
  {
   "cell_type": "markdown",
   "metadata": {},
   "source": [
    "# --- Day 3: Gear Ratios ---\n"
   ]
  },
  {
   "cell_type": "code",
   "execution_count": 48,
   "metadata": {},
   "outputs": [],
   "source": [
    "import pandas as pd \n",
    "import numpy as np \n",
    "import math\n"
   ]
  },
  {
   "cell_type": "markdown",
   "metadata": {},
   "source": [
    "#### Part1"
   ]
  },
  {
   "cell_type": "code",
   "execution_count": 54,
   "metadata": {},
   "outputs": [],
   "source": [
    "with open('day3_input.txt', 'r') as file:\n",
    "    matrix_of_elements = [list(line.strip()) for line in file]\n",
    "\n"
   ]
  },
  {
   "cell_type": "code",
   "execution_count": 55,
   "metadata": {},
   "outputs": [],
   "source": [
    "#Function that aims to complete a digit element of a matrix\n",
    "def extract_numeric(matrix, row, col):\n",
    "    # Get the character at the specified position\n",
    "    digit = matrix[row][col]\n",
    "\n",
    "    # Check characters before the digit\n",
    "    before_index = col - 1\n",
    "    while before_index >= 0 and matrix[row][before_index].isdigit():\n",
    "        digit = matrix[row][before_index] + digit\n",
    "        before_index -= 1\n",
    "\n",
    "    # Check characters after the digit\n",
    "    after_index = col + 1\n",
    "    while after_index < len(matrix[row]) and matrix[row][after_index].isdigit():\n",
    "        digit += matrix[row][after_index]\n",
    "        after_index += 1\n",
    "\n",
    "    # Convert the constructed string to a numeric value\n",
    "    numeric_value = int(digit)\n",
    "\n",
    "    return numeric_value\n"
   ]
  },
  {
   "cell_type": "code",
   "execution_count": 64,
   "metadata": {},
   "outputs": [],
   "source": [
    "#Funtion that identifies the surrounding numeric elements of a symbol\n",
    "def identify_connected_numbers(matrix, row, col):\n",
    "    def is_valid_position(r, c):\n",
    "        # Check if the position is within the bounds of the matrix\n",
    "        return 0 <= r < len(matrix) and 0 <= c < len(matrix[0])\n",
    "\n",
    "    def is_numeric_digit(r, c):\n",
    "        # Check if the character at the specified position is a numeric digit\n",
    "        return is_valid_position(r, c) and matrix[r][c].isdigit()\n",
    "\n",
    "    connected_digits = set()  # Using a set to avoid duplicates\n",
    "\n",
    "    # Check surrounding elements\n",
    "    for i in range(row - 1, row + 2):\n",
    "        for j in range(col - 1, col + 2):\n",
    "            if is_valid_position(i, j) and (i != row or j != col) and is_numeric_digit(i, j):\n",
    "                # Fix: Correct the parentheses for extract_numeric and adjust the argument order\n",
    "                connected_digits.add(extract_numeric(matrix, i, j))\n",
    "    #return the multiplied value of list members\n",
    "    return list(connected_digits)\n"
   ]
  },
  {
   "cell_type": "code",
   "execution_count": 59,
   "metadata": {},
   "outputs": [
    {
     "name": "stdout",
     "output_type": "stream",
     "text": [
      "530495\n"
     ]
    }
   ],
   "source": [
    "#check whether the element of the matrix is a symbol\n",
    "def is_symbol(char):\n",
    "    return not (char.isalpha() or char.isdigit()) and char not in ['.', '_']\n",
    "\n",
    "# An empty list that will be filled with the necessary digits\n",
    "List_of_coordinates = []\n",
    "\n",
    "#Loop through the matrix, check each element, if an elemnt is a symbol call the identify_connected_numbers function\n",
    "for i in range(len(matrix_of_elements)):\n",
    "    for j in range(len(matrix_of_elements)):\n",
    "        if is_symbol(matrix_of_elements[i][j]):\n",
    "            List_of_coordinates.extend(identify_connected_numbers(matrix_of_elements,i,j))\n",
    "\n",
    "print(sum(List_of_coordinates))\n"
   ]
  },
  {
   "cell_type": "markdown",
   "metadata": {},
   "source": [
    "#### Part 2"
   ]
  },
  {
   "cell_type": "code",
   "execution_count": 66,
   "metadata": {},
   "outputs": [],
   "source": [
    "#Funtion that identifies the surrounding numeric elements of a symbol\n",
    "def identify_connected_numbers_max(matrix, row, col):\n",
    "    connected_digits = set()  # Using a set to avoid duplicates\n",
    "    def is_valid_position(r, c):\n",
    "        # Check if the position is within the bounds of the matrix\n",
    "        return 0 <= r < len(matrix) and 0 <= c < len(matrix[0])\n",
    "\n",
    "    def is_numeric_digit(r, c):\n",
    "        # Check if the character at the specified position is a numeric digit\n",
    "        return is_valid_position(r, c) and matrix[r][c].isdigit()\n",
    "\n",
    "    # Check surrounding elements\n",
    "    for i in range(row - 1, row + 2):\n",
    "        for j in range(col - 1, col + 2):\n",
    "            if is_valid_position(i, j) and (i != row or j != col) and is_numeric_digit(i, j):\n",
    "                # Fix: Correct the parentheses for extract_numeric and adjust the argument order\n",
    "                connected_digits.add(extract_numeric(matrix, i, j))\n",
    "    #adding an if-else loop to only return lists if it contains exact two elements\n",
    "    if len(connected_digits) == 2:\n",
    "        return math.prod(list(connected_digits))\n",
    "    else:\n",
    "        return None"
   ]
  },
  {
   "cell_type": "code",
   "execution_count": 69,
   "metadata": {},
   "outputs": [
    {
     "name": "stdout",
     "output_type": "stream",
     "text": [
      "80253814\n"
     ]
    }
   ],
   "source": [
    "# An empty list that will be filled with the necessary digits\n",
    "List_of_coordinates = []\n",
    "\n",
    "#Loop through the matrix, check each element, if an elemnt is a symbol call the identify_connected_numbers function\n",
    "for i in range(len(matrix_of_elements)):\n",
    "    for j in range(len(matrix_of_elements)):\n",
    "        if matrix_of_elements[i][j] == '*':\n",
    "            result = identify_connected_numbers_max(matrix_of_elements, i, j)\n",
    "            if result is not None:\n",
    "                List_of_coordinates.append(result)\n",
    "\n",
    "print(sum(List_of_coordinates))"
   ]
  }
 ],
 "metadata": {
  "kernelspec": {
   "display_name": "Python 3",
   "language": "python",
   "name": "python3"
  },
  "language_info": {
   "codemirror_mode": {
    "name": "ipython",
    "version": 3
   },
   "file_extension": ".py",
   "mimetype": "text/x-python",
   "name": "python",
   "nbconvert_exporter": "python",
   "pygments_lexer": "ipython3",
   "version": "3.11.7"
  }
 },
 "nbformat": 4,
 "nbformat_minor": 2
}
