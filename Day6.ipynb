{
 "cells": [
  {
   "cell_type": "markdown",
   "metadata": {},
   "source": [
    "# --- Day 6: Wait For It ---"
   ]
  },
  {
   "cell_type": "code",
   "execution_count": 1,
   "metadata": {},
   "outputs": [],
   "source": [
    "import pandas as pd \n",
    "import numpy as np "
   ]
  },
  {
   "cell_type": "markdown",
   "metadata": {},
   "source": [
    "#### Part 1"
   ]
  },
  {
   "cell_type": "code",
   "execution_count": 22,
   "metadata": {},
   "outputs": [
    {
     "name": "stdout",
     "output_type": "stream",
     "text": [
      "[35, 93, 73, 66]\n",
      "[212, 2060, 1201, 1044]\n"
     ]
    }
   ],
   "source": [
    "# List of values\n",
    "time_list = []\n",
    "distance_list = []\n",
    "\n",
    "# Read data from the file\n",
    "with open('day6_input.txt', 'r') as file:\n",
    "    for i, line in enumerate(file):\n",
    "        parts = line.strip().split()\n",
    "        \n",
    "        if parts:\n",
    "            if i == 0:\n",
    "                time_list.extend(map(int, parts[1:]))\n",
    "            elif i == 1:\n",
    "                distance_list.extend(map(int, parts[1:]))\n",
    "print(time_list)\n",
    "print(distance_list)\n",
    "\n"
   ]
  },
  {
   "cell_type": "code",
   "execution_count": 44,
   "metadata": {},
   "outputs": [
    {
     "name": "stdout",
     "output_type": "stream",
     "text": [
      "114400\n"
     ]
    }
   ],
   "source": [
    "counter = 1\n",
    "for time, distance in zip(time_list, distance_list):\n",
    "    possible_distances = []\n",
    "    for i in range(0,time+1):\n",
    "        if (time-i)*i > distance:\n",
    "              possible_distances.append((time-i)*i)\n",
    "    counter *= len(possible_distances)\n",
    "print(counter)"
   ]
  },
  {
   "cell_type": "markdown",
   "metadata": {},
   "source": [
    "#### Part2"
   ]
  },
  {
   "cell_type": "code",
   "execution_count": 3,
   "metadata": {},
   "outputs": [
    {
     "name": "stdout",
     "output_type": "stream",
     "text": [
      "35937366\n",
      "212206012011044\n"
     ]
    }
   ],
   "source": [
    "# List of values\n",
    "time_list = []\n",
    "distance_list = []\n",
    "\n",
    "with open('day6_input.txt', 'r') as file:\n",
    "    for i, line in enumerate(file):\n",
    "        parts = line.strip().split()\n",
    "        if parts:\n",
    "            if i == 0:\n",
    "                time_list.extend(map(int, parts[1:]))\n",
    "            elif i == 1:\n",
    "                distance_list.extend(map(int, parts[1:]))\n",
    "\n",
    "# Concatenate and merge the elements of time_list and distance_list\n",
    "time = int(''.join(map(str, time_list)))\n",
    "distance = int(''.join(map(str, distance_list)))\n",
    "\n",
    "print(time)\n",
    "print(distance)\n",
    "        "
   ]
  },
  {
   "cell_type": "code",
   "execution_count": 4,
   "metadata": {},
   "outputs": [
    {
     "name": "stdout",
     "output_type": "stream",
     "text": [
      "21039729\n"
     ]
    }
   ],
   "source": [
    "counter2 = 1\n",
    "possible_distances = []\n",
    "for i in range(0,time+1):\n",
    "    if (time-i)*i > distance:\n",
    "              possible_distances.append((time-i)*i)\n",
    "counter2 *= len(possible_distances)\n",
    "\n",
    "print(counter2)\n"
   ]
  }
 ],
 "metadata": {
  "kernelspec": {
   "display_name": "Python 3",
   "language": "python",
   "name": "python3"
  },
  "language_info": {
   "codemirror_mode": {
    "name": "ipython",
    "version": 3
   },
   "file_extension": ".py",
   "mimetype": "text/x-python",
   "name": "python",
   "nbconvert_exporter": "python",
   "pygments_lexer": "ipython3",
   "version": "3.11.7"
  }
 },
 "nbformat": 4,
 "nbformat_minor": 2
}
