{
 "cells": [
  {
   "cell_type": "code",
   "execution_count": 175,
   "metadata": {},
   "outputs": [],
   "source": [
    "import pandas as pd\n",
    "from collections import Counter\n"
   ]
  },
  {
   "cell_type": "markdown",
   "metadata": {},
   "source": [
    "##### Part1"
   ]
  },
  {
   "cell_type": "code",
   "execution_count": 235,
   "metadata": {},
   "outputs": [
    {
     "name": "stdout",
     "output_type": "stream",
     "text": [
      "     Hands  Bets\n",
      "0    49A49   734\n",
      "1    67594   467\n",
      "2    Q2429   453\n",
      "3    3J787   359\n",
      "4    K4824   703\n",
      "..     ...   ...\n",
      "995  9T999   642\n",
      "996  44JK4   472\n",
      "997  A752Q   672\n",
      "998  36TA8   906\n",
      "999  84824   403\n",
      "\n",
      "[1000 rows x 2 columns]\n"
     ]
    }
   ],
   "source": [
    "file_path = 'day7_input.txt'\n",
    "\n",
    "with open(file_path, 'r') as file:\n",
    "    CardGame = file.read().splitlines()\n",
    "\n",
    "CardGame = [hand.split(' ') for hand in CardGame]\n",
    "df = pd.DataFrame(CardGame, columns=['Hands', 'Bets'])\n",
    "df['Bets'] = df['Bets'].astype(int)\n",
    "\n",
    "print(df)\n"
   ]
  },
  {
   "cell_type": "code",
   "execution_count": 101,
   "metadata": {},
   "outputs": [],
   "source": [
    "#Function that ranks all the cards based on hand rules\n",
    "\n",
    "def ranking_cards(word):\n",
    "    counts = Counter(word)\n",
    "    count_list = list(counts.values())\n",
    "    if max(count_list) == 1:\n",
    "        return 1\n",
    "    elif max(count_list) == 2 and count_list.count(1) > 1:\n",
    "        return 2\n",
    "    elif max(count_list) == 2 and count_list.count(1) == 1:\n",
    "        return 3\n",
    "    elif max(count_list) == 3 and min(count_list) == 1:\n",
    "        return 4\n",
    "    elif max(count_list) == 3 and min(count_list) == 2:\n",
    "        return 5\n",
    "    elif max(count_list) == 4:\n",
    "        return 6\n",
    "    elif max(count_list) == 5:\n",
    "        return 7\n",
    "    else:\n",
    "        return count_list\n",
    "\n",
    "\n",
    "   "
   ]
  },
  {
   "cell_type": "code",
   "execution_count": 165,
   "metadata": {},
   "outputs": [
    {
     "data": {
      "text/plain": [
       "0     2779T\n",
       "1     29992\n",
       "2     2TQT5\n",
       "3     3J787\n",
       "4     49A49\n",
       "5     67594\n",
       "6     7TQ3T\n",
       "7     7QA5J\n",
       "8     94JQK\n",
       "9     96J56\n",
       "10    TJ277\n",
       "11    J4389\n",
       "12    JTTJT\n",
       "13    Q2429\n",
       "14    Q72Q2\n",
       "15    QQ339\n",
       "16    K4824\n",
       "17    KA22K\n",
       "18    A666A\n",
       "19    A777Q\n",
       "Name: Hands, dtype: object"
      ]
     },
     "execution_count": 165,
     "metadata": {},
     "output_type": "execute_result"
    }
   ],
   "source": [
    "def sorting_values(list_of_words):\n",
    "    char_order = {'A': 13, 'K': 12, 'Q': 11, 'J': 10, 'T': 9, '9': 8, '8': 7, '7': 6, '6': 5, '5': 4, '4': 3, '3': 2, '2': 1}\n",
    "    for i in range(len(list_of_words)):\n",
    "        for j in range(i+1, len(list_of_words)):\n",
    "            word1 = list_of_words[i]\n",
    "            word2 = list_of_words[j]\n",
    "            for k in range(len(word1)):\n",
    "                char1 = word1[k]\n",
    "                char2 = word2[k]\n",
    "                if char_order[char1] > char_order[char2]:\n",
    "                    list_of_words[i], list_of_words[j] = list_of_words[j], list_of_words[i]\n",
    "                    break\n",
    "                elif char_order[char1] < char_order[char2]:\n",
    "                    break\n",
    "    return list_of_words\n",
    "\n",
    "\n",
    "\n",
    "\n"
   ]
  },
  {
   "cell_type": "code",
   "execution_count": 103,
   "metadata": {},
   "outputs": [
    {
     "name": "stdout",
     "output_type": "stream",
     "text": [
      "     Hands  Bets  Rank  Enumeration    Wins\n",
      "769  JJJJJ    86     7         1000   86000\n",
      "956  AAAAQ   400     6          999  399600\n",
      "529  AAAJA   841     6          998  839318\n",
      "358  AA8AA   556     6          997  554332\n",
      "82   AA2AA   413     6          996  411348\n",
      "..     ...   ...   ...          ...     ...\n",
      "954  27354   266     1            5    1330\n",
      "684  26J4K   624     1            4    2496\n",
      "851  25Q73   352     1            3    1056\n",
      "496  2567Q   176     1            2     352\n",
      "227  2468T   910     1            1     910\n",
      "\n",
      "[1000 rows x 5 columns]\n",
      "253638586\n"
     ]
    }
   ],
   "source": [
    "#Rank hands based on the rules\n",
    "df['Rank'] = df['Hands'].apply(ranking_cards)\n",
    "#Create a list of all ordered hands\n",
    "all_lists = []\n",
    "for rank in range(1, 8):\n",
    "    df_sub = list(df[df['Rank'] == rank]['Hands'])\n",
    "    sorted_list = sorting_values(df_sub)\n",
    "    all_lists.extend(sorted_list)\n",
    "\n",
    "nOrdered_values = pd.DataFrame({'Hands': all_lists, 'Enumeration': range(1, len(all_lists)+1)})\n",
    "df_final = df.merge(nOrdered_values, on='Hands', how='left')\n",
    "df_final['Wins']= df_final['Bets'] * df_final['Enumeration']\n",
    "df_final.sort_values(by='Enumeration', ascending=False, inplace=True)\n",
    "\n",
    "print(df_final)\n",
    "print(sum(df_final['Wins']))"
   ]
  },
  {
   "cell_type": "markdown",
   "metadata": {},
   "source": [
    "##### Part 2"
   ]
  },
  {
   "cell_type": "code",
   "execution_count": 302,
   "metadata": {},
   "outputs": [],
   "source": [
    "# Changed ranking rules considering the 'J' string\n",
    "def ranking_cards_2(word):\n",
    "    # Step 1: Check if the words have a 'J' string\n",
    "    if 'J' in word and len(set(word)) > 1:\n",
    "        # Find the most common non-'J' string\n",
    "        non_j_strings = [char for char in word if char != 'J']\n",
    "        most_common = max(set(non_j_strings), key=non_j_strings.count)\n",
    "        \n",
    "        # Replace all 'J' strings with the most common string\n",
    "        word = [char if char != 'J' else most_common for char in word]\n",
    "    \n",
    "    # Step 2: Generate lists with the count of string values\n",
    "    count= [word.count(char) for char in word]\n",
    "    \n",
    "    if max(count) == 1:\n",
    "        return 1\n",
    "    elif max(count) == 2 and count.count(1) > 1:\n",
    "        return 2    \n",
    "    elif max(count) == 2 and count.count(1) == 1:\n",
    "        return 3\n",
    "    elif max(count) == 3 and min(count) == 1:\n",
    "        return 4\n",
    "    elif max(count) == 3 and min(count) == 2:\n",
    "        return 5\n",
    "    elif max(count) == 4:\n",
    "        return 6\n",
    "    elif max(count) == 5:\n",
    "        return 7\n"
   ]
  },
  {
   "cell_type": "code",
   "execution_count": 306,
   "metadata": {},
   "outputs": [],
   "source": [
    "#Changed sorting rule for the cards\n",
    "def sorting_values_2(list_of_words):\n",
    "    char_order = {'A': 13, 'K': 12, 'Q': 11, 'T': 10, '9': 9, '8': 8, '7': 7, '6': 6, '5': 5, '4': 4, '3': 3, '2': 2, 'J': 1}\n",
    "    for i in range(len(list_of_words)):\n",
    "        for j in range(i+1, len(list_of_words)):\n",
    "            word1 = list_of_words[i]\n",
    "            word2 = list_of_words[j]\n",
    "            for k in range(len(word1)):\n",
    "                char1 = word1[k]\n",
    "                char2 = word2[k]\n",
    "                if char_order[char1] > char_order[char2]:\n",
    "                    list_of_words[i], list_of_words[j] = list_of_words[j], list_of_words[i]\n",
    "                    break\n",
    "                elif char_order[char1] < char_order[char2]:\n",
    "                    break\n",
    "    return list_of_words"
   ]
  },
  {
   "cell_type": "code",
   "execution_count": 305,
   "metadata": {},
   "outputs": [
    {
     "name": "stdout",
     "output_type": "stream",
     "text": [
      "     Hands  Bets  Rank  Enumeration    Wins\n",
      "529  AAAJA   841     7         1000  841000\n",
      "900  KKJKK   375     7          999  374625\n",
      "407  KJKJK   186     7          998  185628\n",
      "717  QQQJJ   688     7          997  685936\n",
      "531  QQJQQ   503     7          996  500988\n",
      "..     ...   ...   ...          ...     ...\n",
      "218  275Q9    84     1            5     420\n",
      "954  27354   266     1            4    1064\n",
      "851  25Q73   352     1            3    1056\n",
      "496  2567Q   176     1            2     352\n",
      "227  2468T   910     1            1     910\n",
      "\n",
      "[1000 rows x 5 columns]\n",
      "253253225\n"
     ]
    }
   ],
   "source": [
    "#Rank hands based on the rules\n",
    "df['Rank'] = df['Hands'].apply(ranking_cards_2)\n",
    "#Create a list of all ordered hands\n",
    "all_lists = []\n",
    "for rank in range(1, 8):\n",
    "    df_sub = list(df[df['Rank'] == rank]['Hands'])\n",
    "    sorted_list = sorting_values_2(df_sub)\n",
    "    all_lists.extend(sorted_list)\n",
    "\n",
    "nOrdered_values = pd.DataFrame({'Hands': all_lists, 'Enumeration': range(1, len(all_lists)+1)})\n",
    "df_final = df.merge(nOrdered_values, on='Hands', how='left')\n",
    "df_final['Wins']= df_final['Bets'] * df_final['Enumeration']\n",
    "df_final.sort_values(by='Enumeration', ascending=False, inplace=True)\n",
    "\n",
    "print(df_final)\n",
    "print(sum(df_final['Wins']))"
   ]
  }
 ],
 "metadata": {
  "kernelspec": {
   "display_name": "Python 3",
   "language": "python",
   "name": "python3"
  },
  "language_info": {
   "codemirror_mode": {
    "name": "ipython",
    "version": 3
   },
   "file_extension": ".py",
   "mimetype": "text/x-python",
   "name": "python",
   "nbconvert_exporter": "python",
   "pygments_lexer": "ipython3",
   "version": "3.11.7"
  }
 },
 "nbformat": 4,
 "nbformat_minor": 2
}
