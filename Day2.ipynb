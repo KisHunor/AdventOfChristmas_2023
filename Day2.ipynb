{
 "cells": [
  {
   "cell_type": "markdown",
   "metadata": {},
   "source": [
    "# --- Day 2: Cube Conundrum ---"
   ]
  },
  {
   "cell_type": "code",
   "execution_count": 1,
   "metadata": {},
   "outputs": [],
   "source": [
    "import pandas as pd \n",
    "import numpy as np"
   ]
  },
  {
   "cell_type": "code",
   "execution_count": 96,
   "metadata": {},
   "outputs": [
    {
     "name": "stdout",
     "output_type": "stream",
     "text": [
      "2810\n"
     ]
    }
   ],
   "source": [
    "#Part1\n",
    "\n",
    "#Create the limits that you are going to use and an empty list for the appropriate games\n",
    "limit = {'red':12,'green':13,'blue':14}\n",
    "games_within_limits = []\n",
    "\n",
    "#Open the files and separate the lines into games and result strings\n",
    "with open('day2_input.txt', 'r') as file:\n",
    "    for line in file:\n",
    "        games, results_str = line.strip().split(':')\n",
    "        #Create a dictionary, where you pair up the digits and the colors, regardless of the ; or , used to separate\n",
    "        game_dict = {}\n",
    "        color_number_pairs = [item.strip().split() for item in re.split(r'[,;]', results_str)]\n",
    "        for digit, color in color_number_pairs:\n",
    "            game_dict[int(digit)] = color\n",
    "        #check where the limit is exceeded    \n",
    "        exceed_limits = {color: any(digit > limit[color] for digit in game_dict if game_dict[digit] == color) for color in limit}\n",
    "        if not any(exceed_limits.values()):\n",
    "            games_within_limits.append((games))\n",
    "#sum the games\n",
    "sum_of_digits = sum(int(''.join(filter(str.isdigit, item))) for item in games_within_limits)\n",
    "print(sum_of_digits)\n"
   ]
  },
  {
   "cell_type": "code",
   "execution_count": 4,
   "metadata": {},
   "outputs": [
    {
     "name": "stdout",
     "output_type": "stream",
     "text": [
      "69110\n"
     ]
    }
   ],
   "source": [
    "#Part2\n",
    "#Import reduce function for later use\n",
    "import re\n",
    "from functools import reduce\n",
    "#create a multiplier and a total power value\n",
    "multiplied_number = 1\n",
    "total_power = 0\n",
    "\n",
    "#open and loop trough the files\n",
    "with open('day2_input.txt', 'r') as file:\n",
    "    for line in file:\n",
    "        games, results_str = line.strip().split(':')\n",
    "        #create dictionaries for games and altered results\n",
    "        game_dict = {}\n",
    "        max_numbers = {}\n",
    "        color_number_pairs = [item.strip().split() for item in re.split(r'[,;]', results_str)]\n",
    "        for digit, color in color_number_pairs:\n",
    "            game_dict[color] = int(digit)\n",
    "            if color in max_numbers:\n",
    "                max_numbers[color] = max(max_numbers[color], int(digit))\n",
    "            else:\n",
    "                max_numbers[color] = int(digit)\n",
    "        power = reduce(lambda x, y: x * y, list(max_numbers.values()))\n",
    "        total_power += power\n",
    "        \n",
    "print(total_power)       \n"
   ]
  }
 ],
 "metadata": {
  "kernelspec": {
   "display_name": "Python 3",
   "language": "python",
   "name": "python3"
  },
  "language_info": {
   "codemirror_mode": {
    "name": "ipython",
    "version": 3
   },
   "file_extension": ".py",
   "mimetype": "text/x-python",
   "name": "python",
   "nbconvert_exporter": "python",
   "pygments_lexer": "ipython3",
   "version": "3.11.0"
  }
 },
 "nbformat": 4,
 "nbformat_minor": 2
}
